{
 "cells": [
  {
   "cell_type": "markdown",
   "id": "musical-central",
   "metadata": {},
   "source": [
    "# Polynominterpolation"
   ]
  },
  {
   "cell_type": "markdown",
   "id": "spread-electric",
   "metadata": {},
   "source": [
    "### Interpolationsproblem\n",
    "\n",
    "Bestimme zu gegebenen Daten $(xk, yk)$ , $k = 0,1,...,n$ einer stetigen Funktion $f$ , $yk = f(xk)$\n",
    "mit paarweise verschiedenen Stutzwerten (Knoten) $x_k$ ein Polynom $p \\in  \\Pi_n([a,b])$, welches\n",
    "die $n+1$ Interpolationsbedingungen\n",
    "$$\n",
    "p(x_k) = f(x_k) = y_k, \\quad k = 0,1,...n \n",
    "$$\n",
    "erfüllt."
   ]
  },
  {
   "cell_type": "markdown",
   "id": "exterior-semiconductor",
   "metadata": {},
   "source": [
    "### Newton-Basis"
   ]
  },
  {
   "cell_type": "markdown",
   "id": "aquatic-shadow",
   "metadata": {},
   "source": [
    "Gegeben seien n+1 paarweise verschiedene Stützstellen $x0,..., xn$. Dann bezeichnet man\n",
    "die $n+1$ Polynome\n",
    "$$\n",
    "ω_0(x) = 1\n",
    "ω_i(x) = \\prod_{j=0}^{i-1}(x−x_j), \\quad i = 1,...n\n",
    "$$\n",
    "als die Newtonbasis von $\\Pi_n$ bezuglich der Stützstellen $x0,..., xn$. Die Darstellung des Interpolationspolynom in dieser Basis:\n",
    "$$\n",
    "P(f|x_0, x_0, x_1, x_1)(x)= \\sum_{i=0}^n b_iw_i(x)\n",
    "$$\n",
    "heißt Newtondarstellung.\n",
    "\n",
    "### Effiziente Auswertung in der Hornerdarstellung\n",
    "$P(f|x_0, x_0, x_1, x_1)(x)= b_0 + (x−x_0)(b_1+(x-x_1)(b_2+(x-x_2(...+(x-x_{n-1} )b_n...)$\n",
    "\n",
    "###  dividierte Differenzen\n",
    "$b_i =: f [x_0, x_1,..., x_i]$, d.h.\n",
    "$$\n",
    "P(f|x_0, x_0, x_1, x_1)(x)=f[x_0] + f[x_0,x_1](x - x_0) + ... + f[x_0,x_1,...,x_n](x - x_0) ... (x - x_{n-1})\n",
    "$$\n",
    "\n",
    "### Rekursionsformel für dividierte Differenzen\n",
    "$$\n",
    "f[x_r,...,x_s] = \\frac{f[x_{r+1},...,x_s]-f[x_r,...,x_{s-1}]}{x_s-x_r}\n",
    "$$"
   ]
  },
  {
   "cell_type": "markdown",
   "id": "aquatic-allen",
   "metadata": {},
   "source": [
    "# Spline-Interpolation"
   ]
  },
  {
   "cell_type": "markdown",
   "id": "acute-undergraduate",
   "metadata": {},
   "source": [
    "### Stückweise lineare Interpolation \n",
    "Bestimme zu gegebenen Daten $(x_j, y_j)$, $j = 0,1,...,n$ eine stetige Funktion $s$, die auf jedem Teilintervall $I_j = [x_j, x_j+1]$ ein Polynom vom $Grad \\leq  1$ ist und die Interpolationsbedingungen\n",
    "$$\n",
    "s(x_j) = y_j,\\quad j = 0,1,...n\n",
    "$$\n",
    "erfüllt.\n",
    "\n",
    "### Vektorraum der linearen Splines\n",
    "$$\n",
    "S_1^n = {s \\in C([a,b])|s_j:= s_{[x_j,x_j+1]}\\in  \\Pi_1}\n",
    "$$\n",
    "\n"
   ]
  },
  {
   "cell_type": "markdown",
   "id": "changed-reaction",
   "metadata": {},
   "source": [
    "### Kubische Splineinterpolation\n",
    "Der Funktionenraum\n",
    "$$\n",
    "S_3^n = {s \\in C^2([a,b])|s_j:= s_{[x_j,x_j+1]}\\in  \\Pi_1}\n",
    "$$\n",
    "heißt der Raum der kubischen Splines zu den Knoten.\n",
    "\n",
    "### Spline-Interpolationsproblem\n",
    "\n",
    "Bestimme zu vorgegebenen Stützpunkten  $a = x_0 < ··· < x_n = b$ und Stützwerten $y_0,..., y_n$ einen Spline $s \\in S_3^n$ mit\n",
    "$$\n",
    "s(x_j) = y_j,\\quad j = 0,...n\n",
    "$$\n",
    "$$\n",
    "s^{\\prime\\prime}(a) = s^{\\prime\\prime}(b) = 0 \n",
    "$$\n",
    "\n",
    "- Betrachte nur den vereinfachten Fall mit äquidistanten Stützstellen im Abstand\n",
    "$$\n",
    "h := x_{j+1} − x_j ,\\quad j = 0, . . . , n − 1\n",
    "$$\n",
    "\n",
    "- Die zweite Ableitung von s ist stetig:\n",
    "$$\n",
    "mj:= s^{\\prime\\prime}(x_j) = s_j^{\\prime\\prime}(x_j) = s_{j-1}^{\\prime\\prime}(x_j)\n",
    "$$\n",
    "$s_j \\in \\Pi_3$, daher $s_j^{\\prime\\prime}x$ in $\\Pi_1$ und\n",
    "$$\n",
    "s_j^{\\prime\\prime}x=m_j \\frac{(x_{j+1} - x}{h} + m_{j+1}\\frac{(x - x_j}{h}\n",
    "$$\n",
    "\n",
    "\n",
    "- Rechnung ergibt \n",
    "\\begin{align*}\n",
    "s_j(x) = \\frac{1}{6h} \\big( m_j(x_{j+1} - x)^3 + m_{j+1}(x - x_j)^3 \\big) \n",
    " +  \\frac{1}{h} \\big( y_j(x_{j+1} - x) + y_{j+1}(x - x_j)\\big) \n",
    "  - \\frac{h}{6} \\big( m_j(x_{j+1} - x) + m_{j+1}(x - x_j)\\big)\n",
    "\\end{align*}\n",
    "\n",
    "\n",
    "- Noch zu fordern: Stetigkeit der 1. Ableitung\n",
    "$$\n",
    "s_{j-1}^{\\prime}x_j = s_j^{\\prime}x_j, \\quad j = 1,...,n−1,\n",
    "$$\n",
    "- Einsetzen\n",
    "$$\n",
    "m_{j−1} +4m_j +m_j+1 = \\frac{6}{h^2}(y_{j-1}-2y_j+y_{j+1}) , \\quad  j = 1,...,n−1.\n",
    "$$\n",
    "\n",
    "\n",
    "\n",
    "- Mit den geforderten natürlichen Randbedingungen $m_0 = m_n = 0$  ergibt sich schließlich das folgende quadratische LGS für die $n − 1$ Unbekannten $(m_1,...,m_{n−1})$:\n",
    "\n",
    "$$\n",
    " \\begin{pmatrix} \n",
    "        4& 1 & & \\\\ \n",
    "        1& 4& \\ddots & \\\\\n",
    "         &\\ddots & \\ddots & 1\\\\\n",
    "          & & 1 & 4\n",
    "        \\end{pmatrix}\n",
    " \\begin{pmatrix} \n",
    "       m_1 \\\\\n",
    "       m_2 \\\\\n",
    "       \\vdots \\\\\n",
    "       m_{n-1}\n",
    "      \\end{pmatrix}\n",
    "= \\frac{6}{h^2}\n",
    "\\begin{pmatrix} \n",
    "       y_0-2y_1+y_2 \\\\\n",
    "       y_1-2y_2+y_3\\\\\n",
    "       \\vdots \\\\\n",
    "       y_{n-2}-2y_{n-1}+y_n\n",
    "      \\end{pmatrix}\n",
    "$$      \n",
    "                          \n",
    "\n",
    "\n",
    "\n"
   ]
  },
  {
   "cell_type": "markdown",
   "id": "boxed-hindu",
   "metadata": {},
   "source": [
    "### Aufgabe \n",
    "Vergleichung die Approximationseigenschaften der kubischen Spline-Interpolation und der Polynominterpolation für die Rungefunktion."
   ]
  },
  {
   "cell_type": "code",
   "execution_count": 1,
   "id": "recognized-shape",
   "metadata": {},
   "outputs": [],
   "source": [
    "import numpy as np\n",
    "import matplotlib.pyplot as plt\n",
    "from interpol1d import splineinterpol , poly_interpol"
   ]
  },
  {
   "cell_type": "code",
   "execution_count": 2,
   "id": "amateur-rugby",
   "metadata": {},
   "outputs": [
    {
     "data": {
      "text/plain": [
       "Text(0, 0.5, 'y')"
      ]
     },
     "execution_count": 2,
     "metadata": {},
     "output_type": "execute_result"
    },
    {
     "data": {
      "image/png": "[encoded data removed]",
      "text/plain": [
       "<Figure size 432x288 with 1 Axes>"
      ]
     },
     "metadata": {
      "needs_background": "light"
     },
     "output_type": "display_data"
    }
   ],
   "source": [
    "def f(x):\n",
    "    return 1 /(1 + x*x)\n",
    "\n",
    "n = 100\n",
    "f_x = np.linspace(-5, 5, n)\n",
    "f_y = f(f_x)\n",
    "\n",
    "number_of_support_points = 5\n",
    "xi = np.linspace(-5, 5, number_of_support_points)\n",
    "yi = f(xi)\n",
    "\n",
    "x = []\n",
    "for i in range(1, number_of_support_points):\n",
    "    x.append(np.linspace(xi[i-1], xi[i], n))\n",
    "\n",
    "spline_interpols = []\n",
    "poly_interpols = []\n",
    "for i in range(len(x)):\n",
    "    spline_interpols.append(splineinterpol(x[i], xi ,yi))\n",
    "    poly_interpols.append(poly_interpol(x[i], xi, yi))\n",
    "    \n",
    "plt.plot(xi, yi, '*', markersize=10)\n",
    "plt.plot(f_x, f_y, linewidth = 2)\n",
    "for i in range(len(x)):\n",
    "    plt.plot(x[i], spline_interpols[i], linewidth=2, color='red')\n",
    "    plt.plot(x[i], poly_interpols[i], linewidth=2, color='green')\n",
    "plt.legend(['', r'$f(x)$', 'SolinInterpol', 'PolyInterpol'])\n",
    "plt.xlabel('x')\n",
    "plt.ylabel('y')"
   ]
  },
  {
   "cell_type": "code",
   "execution_count": null,
   "id": "individual-efficiency",
   "metadata": {},
   "outputs": [],
   "source": []
  },
  {
   "cell_type": "code",
   "execution_count": null,
   "id": "pressing-somerset",
   "metadata": {},
   "outputs": [],
   "source": []
  }
 ],
 "metadata": {
  "kernelspec": {
   "display_name": "Python 3",
   "language": "python",
   "name": "python3"
  },
  "language_info": {
   "codemirror_mode": {
    "name": "ipython",
    "version": 3
   },
   "file_extension": ".py",
   "mimetype": "text/x-python",
   "name": "python",
   "nbconvert_exporter": "python",
   "pygments_lexer": "ipython3",
   "version": "3.9.1"
  }
 },
 "nbformat": 4,
 "nbformat_minor": 5
}
